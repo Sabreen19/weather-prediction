{
  "nbformat": 4,
  "nbformat_minor": 0,
  "metadata": {
    "colab": {
      "provenance": []
    },
    "kernelspec": {
      "name": "python3",
      "display_name": "Python 3"
    },
    "language_info": {
      "name": "python"
    }
  },
  "cells": [
    {
      "cell_type": "code",
      "source": [
        "import pandas as pd\n",
        "import numpy as np\n",
        "import matplotlib.pyplot as plt\n",
        "import seaborn as sns\n",
        "from sklearn.preprocessing import StandardScaler, LabelEncoder, PolynomialFeatures\n",
        "from sklearn.model_selection import train_test_split, cross_val_score, GridSearchCV\n",
        "from sklearn.neighbors import KNeighborsClassifier\n",
        "from sklearn.svm import SVC\n",
        "from sklearn.ensemble import GradientBoostingClassifier, VotingClassifier\n",
        "from xgboost import XGBClassifier\n",
        "from sklearn.metrics import accuracy_score, confusion_matrix, classification_report\n",
        "import pickle\n",
        "import warnings"
      ],
      "metadata": {
        "id": "1JUKsc0U54Jc"
      },
      "execution_count": 33,
      "outputs": []
    },
    {
      "cell_type": "code",
      "source": [
        "# Ignore warnings\n",
        "warnings.filterwarnings('ignore')"
      ],
      "metadata": {
        "id": "L9fVfC86A4rS"
      },
      "execution_count": 34,
      "outputs": []
    },
    {
      "cell_type": "code",
      "source": [
        "# Load data\n",
        "data=pd.read_csv(\"seattle-weather.csv\")\n",
        "data.head()"
      ],
      "metadata": {
        "colab": {
          "base_uri": "https://localhost:8080/",
          "height": 206
        },
        "id": "gmLsMiCj6jLd",
        "outputId": "2d269484-7628-47af-9af0-de8a13969d99"
      },
      "execution_count": 26,
      "outputs": [
        {
          "output_type": "execute_result",
          "data": {
            "text/plain": [
              "         date  precipitation  temp_max  temp_min  wind  weather\n",
              "0  2012-01-01            0.0      12.8       5.0   4.7  drizzle\n",
              "1  2012-01-02           10.9      10.6       2.8   4.5     rain\n",
              "2  2012-01-03            0.8      11.7       7.2   2.3     rain\n",
              "3  2012-01-04           20.3      12.2       5.6   4.7     rain\n",
              "4  2012-01-05            1.3       8.9       2.8   6.1     rain"
            ],
            "text/html": [
              "\n",
              "  <div id=\"df-ff2e8251-52ee-4604-bfa1-6243deee3482\" class=\"colab-df-container\">\n",
              "    <div>\n",
              "<style scoped>\n",
              "    .dataframe tbody tr th:only-of-type {\n",
              "        vertical-align: middle;\n",
              "    }\n",
              "\n",
              "    .dataframe tbody tr th {\n",
              "        vertical-align: top;\n",
              "    }\n",
              "\n",
              "    .dataframe thead th {\n",
              "        text-align: right;\n",
              "    }\n",
              "</style>\n",
              "<table border=\"1\" class=\"dataframe\">\n",
              "  <thead>\n",
              "    <tr style=\"text-align: right;\">\n",
              "      <th></th>\n",
              "      <th>date</th>\n",
              "      <th>precipitation</th>\n",
              "      <th>temp_max</th>\n",
              "      <th>temp_min</th>\n",
              "      <th>wind</th>\n",
              "      <th>weather</th>\n",
              "    </tr>\n",
              "  </thead>\n",
              "  <tbody>\n",
              "    <tr>\n",
              "      <th>0</th>\n",
              "      <td>2012-01-01</td>\n",
              "      <td>0.0</td>\n",
              "      <td>12.8</td>\n",
              "      <td>5.0</td>\n",
              "      <td>4.7</td>\n",
              "      <td>drizzle</td>\n",
              "    </tr>\n",
              "    <tr>\n",
              "      <th>1</th>\n",
              "      <td>2012-01-02</td>\n",
              "      <td>10.9</td>\n",
              "      <td>10.6</td>\n",
              "      <td>2.8</td>\n",
              "      <td>4.5</td>\n",
              "      <td>rain</td>\n",
              "    </tr>\n",
              "    <tr>\n",
              "      <th>2</th>\n",
              "      <td>2012-01-03</td>\n",
              "      <td>0.8</td>\n",
              "      <td>11.7</td>\n",
              "      <td>7.2</td>\n",
              "      <td>2.3</td>\n",
              "      <td>rain</td>\n",
              "    </tr>\n",
              "    <tr>\n",
              "      <th>3</th>\n",
              "      <td>2012-01-04</td>\n",
              "      <td>20.3</td>\n",
              "      <td>12.2</td>\n",
              "      <td>5.6</td>\n",
              "      <td>4.7</td>\n",
              "      <td>rain</td>\n",
              "    </tr>\n",
              "    <tr>\n",
              "      <th>4</th>\n",
              "      <td>2012-01-05</td>\n",
              "      <td>1.3</td>\n",
              "      <td>8.9</td>\n",
              "      <td>2.8</td>\n",
              "      <td>6.1</td>\n",
              "      <td>rain</td>\n",
              "    </tr>\n",
              "  </tbody>\n",
              "</table>\n",
              "</div>\n",
              "    <div class=\"colab-df-buttons\">\n",
              "\n",
              "  <div class=\"colab-df-container\">\n",
              "    <button class=\"colab-df-convert\" onclick=\"convertToInteractive('df-ff2e8251-52ee-4604-bfa1-6243deee3482')\"\n",
              "            title=\"Convert this dataframe to an interactive table.\"\n",
              "            style=\"display:none;\">\n",
              "\n",
              "  <svg xmlns=\"http://www.w3.org/2000/svg\" height=\"24px\" viewBox=\"0 -960 960 960\">\n",
              "    <path d=\"M120-120v-720h720v720H120Zm60-500h600v-160H180v160Zm220 220h160v-160H400v160Zm0 220h160v-160H400v160ZM180-400h160v-160H180v160Zm440 0h160v-160H620v160ZM180-180h160v-160H180v160Zm440 0h160v-160H620v160Z\"/>\n",
              "  </svg>\n",
              "    </button>\n",
              "\n",
              "  <style>\n",
              "    .colab-df-container {\n",
              "      display:flex;\n",
              "      gap: 12px;\n",
              "    }\n",
              "\n",
              "    .colab-df-convert {\n",
              "      background-color: #E8F0FE;\n",
              "      border: none;\n",
              "      border-radius: 50%;\n",
              "      cursor: pointer;\n",
              "      display: none;\n",
              "      fill: #1967D2;\n",
              "      height: 32px;\n",
              "      padding: 0 0 0 0;\n",
              "      width: 32px;\n",
              "    }\n",
              "\n",
              "    .colab-df-convert:hover {\n",
              "      background-color: #E2EBFA;\n",
              "      box-shadow: 0px 1px 2px rgba(60, 64, 67, 0.3), 0px 1px 3px 1px rgba(60, 64, 67, 0.15);\n",
              "      fill: #174EA6;\n",
              "    }\n",
              "\n",
              "    .colab-df-buttons div {\n",
              "      margin-bottom: 4px;\n",
              "    }\n",
              "\n",
              "    [theme=dark] .colab-df-convert {\n",
              "      background-color: #3B4455;\n",
              "      fill: #D2E3FC;\n",
              "    }\n",
              "\n",
              "    [theme=dark] .colab-df-convert:hover {\n",
              "      background-color: #434B5C;\n",
              "      box-shadow: 0px 1px 3px 1px rgba(0, 0, 0, 0.15);\n",
              "      filter: drop-shadow(0px 1px 2px rgba(0, 0, 0, 0.3));\n",
              "      fill: #FFFFFF;\n",
              "    }\n",
              "  </style>\n",
              "\n",
              "    <script>\n",
              "      const buttonEl =\n",
              "        document.querySelector('#df-ff2e8251-52ee-4604-bfa1-6243deee3482 button.colab-df-convert');\n",
              "      buttonEl.style.display =\n",
              "        google.colab.kernel.accessAllowed ? 'block' : 'none';\n",
              "\n",
              "      async function convertToInteractive(key) {\n",
              "        const element = document.querySelector('#df-ff2e8251-52ee-4604-bfa1-6243deee3482');\n",
              "        const dataTable =\n",
              "          await google.colab.kernel.invokeFunction('convertToInteractive',\n",
              "                                                    [key], {});\n",
              "        if (!dataTable) return;\n",
              "\n",
              "        const docLinkHtml = 'Like what you see? Visit the ' +\n",
              "          '<a target=\"_blank\" href=https://colab.research.google.com/notebooks/data_table.ipynb>data table notebook</a>'\n",
              "          + ' to learn more about interactive tables.';\n",
              "        element.innerHTML = '';\n",
              "        dataTable['output_type'] = 'display_data';\n",
              "        await google.colab.output.renderOutput(dataTable, element);\n",
              "        const docLink = document.createElement('div');\n",
              "        docLink.innerHTML = docLinkHtml;\n",
              "        element.appendChild(docLink);\n",
              "      }\n",
              "    </script>\n",
              "  </div>\n",
              "\n",
              "\n",
              "<div id=\"df-ecb48f4b-8afb-4281-9368-0de45757d1d4\">\n",
              "  <button class=\"colab-df-quickchart\" onclick=\"quickchart('df-ecb48f4b-8afb-4281-9368-0de45757d1d4')\"\n",
              "            title=\"Suggest charts\"\n",
              "            style=\"display:none;\">\n",
              "\n",
              "<svg xmlns=\"http://www.w3.org/2000/svg\" height=\"24px\"viewBox=\"0 0 24 24\"\n",
              "     width=\"24px\">\n",
              "    <g>\n",
              "        <path d=\"M19 3H5c-1.1 0-2 .9-2 2v14c0 1.1.9 2 2 2h14c1.1 0 2-.9 2-2V5c0-1.1-.9-2-2-2zM9 17H7v-7h2v7zm4 0h-2V7h2v10zm4 0h-2v-4h2v4z\"/>\n",
              "    </g>\n",
              "</svg>\n",
              "  </button>\n",
              "\n",
              "<style>\n",
              "  .colab-df-quickchart {\n",
              "      --bg-color: #E8F0FE;\n",
              "      --fill-color: #1967D2;\n",
              "      --hover-bg-color: #E2EBFA;\n",
              "      --hover-fill-color: #174EA6;\n",
              "      --disabled-fill-color: #AAA;\n",
              "      --disabled-bg-color: #DDD;\n",
              "  }\n",
              "\n",
              "  [theme=dark] .colab-df-quickchart {\n",
              "      --bg-color: #3B4455;\n",
              "      --fill-color: #D2E3FC;\n",
              "      --hover-bg-color: #434B5C;\n",
              "      --hover-fill-color: #FFFFFF;\n",
              "      --disabled-bg-color: #3B4455;\n",
              "      --disabled-fill-color: #666;\n",
              "  }\n",
              "\n",
              "  .colab-df-quickchart {\n",
              "    background-color: var(--bg-color);\n",
              "    border: none;\n",
              "    border-radius: 50%;\n",
              "    cursor: pointer;\n",
              "    display: none;\n",
              "    fill: var(--fill-color);\n",
              "    height: 32px;\n",
              "    padding: 0;\n",
              "    width: 32px;\n",
              "  }\n",
              "\n",
              "  .colab-df-quickchart:hover {\n",
              "    background-color: var(--hover-bg-color);\n",
              "    box-shadow: 0 1px 2px rgba(60, 64, 67, 0.3), 0 1px 3px 1px rgba(60, 64, 67, 0.15);\n",
              "    fill: var(--button-hover-fill-color);\n",
              "  }\n",
              "\n",
              "  .colab-df-quickchart-complete:disabled,\n",
              "  .colab-df-quickchart-complete:disabled:hover {\n",
              "    background-color: var(--disabled-bg-color);\n",
              "    fill: var(--disabled-fill-color);\n",
              "    box-shadow: none;\n",
              "  }\n",
              "\n",
              "  .colab-df-spinner {\n",
              "    border: 2px solid var(--fill-color);\n",
              "    border-color: transparent;\n",
              "    border-bottom-color: var(--fill-color);\n",
              "    animation:\n",
              "      spin 1s steps(1) infinite;\n",
              "  }\n",
              "\n",
              "  @keyframes spin {\n",
              "    0% {\n",
              "      border-color: transparent;\n",
              "      border-bottom-color: var(--fill-color);\n",
              "      border-left-color: var(--fill-color);\n",
              "    }\n",
              "    20% {\n",
              "      border-color: transparent;\n",
              "      border-left-color: var(--fill-color);\n",
              "      border-top-color: var(--fill-color);\n",
              "    }\n",
              "    30% {\n",
              "      border-color: transparent;\n",
              "      border-left-color: var(--fill-color);\n",
              "      border-top-color: var(--fill-color);\n",
              "      border-right-color: var(--fill-color);\n",
              "    }\n",
              "    40% {\n",
              "      border-color: transparent;\n",
              "      border-right-color: var(--fill-color);\n",
              "      border-top-color: var(--fill-color);\n",
              "    }\n",
              "    60% {\n",
              "      border-color: transparent;\n",
              "      border-right-color: var(--fill-color);\n",
              "    }\n",
              "    80% {\n",
              "      border-color: transparent;\n",
              "      border-right-color: var(--fill-color);\n",
              "      border-bottom-color: var(--fill-color);\n",
              "    }\n",
              "    90% {\n",
              "      border-color: transparent;\n",
              "      border-bottom-color: var(--fill-color);\n",
              "    }\n",
              "  }\n",
              "</style>\n",
              "\n",
              "  <script>\n",
              "    async function quickchart(key) {\n",
              "      const quickchartButtonEl =\n",
              "        document.querySelector('#' + key + ' button');\n",
              "      quickchartButtonEl.disabled = true;  // To prevent multiple clicks.\n",
              "      quickchartButtonEl.classList.add('colab-df-spinner');\n",
              "      try {\n",
              "        const charts = await google.colab.kernel.invokeFunction(\n",
              "            'suggestCharts', [key], {});\n",
              "      } catch (error) {\n",
              "        console.error('Error during call to suggestCharts:', error);\n",
              "      }\n",
              "      quickchartButtonEl.classList.remove('colab-df-spinner');\n",
              "      quickchartButtonEl.classList.add('colab-df-quickchart-complete');\n",
              "    }\n",
              "    (() => {\n",
              "      let quickchartButtonEl =\n",
              "        document.querySelector('#df-ecb48f4b-8afb-4281-9368-0de45757d1d4 button');\n",
              "      quickchartButtonEl.style.display =\n",
              "        google.colab.kernel.accessAllowed ? 'block' : 'none';\n",
              "    })();\n",
              "  </script>\n",
              "</div>\n",
              "\n",
              "    </div>\n",
              "  </div>\n"
            ],
            "application/vnd.google.colaboratory.intrinsic+json": {
              "type": "dataframe",
              "variable_name": "data",
              "summary": "{\n  \"name\": \"data\",\n  \"rows\": 1461,\n  \"fields\": [\n    {\n      \"column\": \"date\",\n      \"properties\": {\n        \"dtype\": \"object\",\n        \"num_unique_values\": 1461,\n        \"samples\": [\n          \"2014-06-11\",\n          \"2015-01-10\",\n          \"2013-02-17\"\n        ],\n        \"semantic_type\": \"\",\n        \"description\": \"\"\n      }\n    },\n    {\n      \"column\": \"precipitation\",\n      \"properties\": {\n        \"dtype\": \"number\",\n        \"std\": 6.680194322314738,\n        \"min\": 0.0,\n        \"max\": 55.9,\n        \"num_unique_values\": 111,\n        \"samples\": [\n          43.4,\n          8.1,\n          1.3\n        ],\n        \"semantic_type\": \"\",\n        \"description\": \"\"\n      }\n    },\n    {\n      \"column\": \"temp_max\",\n      \"properties\": {\n        \"dtype\": \"number\",\n        \"std\": 7.349758097360177,\n        \"min\": -1.6,\n        \"max\": 35.6,\n        \"num_unique_values\": 67,\n        \"samples\": [\n          25.6,\n          8.3,\n          8.9\n        ],\n        \"semantic_type\": \"\",\n        \"description\": \"\"\n      }\n    },\n    {\n      \"column\": \"temp_min\",\n      \"properties\": {\n        \"dtype\": \"number\",\n        \"std\": 5.023004179961266,\n        \"min\": -7.1,\n        \"max\": 18.3,\n        \"num_unique_values\": 55,\n        \"samples\": [\n          13.3,\n          0.6,\n          14.4\n        ],\n        \"semantic_type\": \"\",\n        \"description\": \"\"\n      }\n    },\n    {\n      \"column\": \"wind\",\n      \"properties\": {\n        \"dtype\": \"number\",\n        \"std\": 1.4378250588746193,\n        \"min\": 0.4,\n        \"max\": 9.5,\n        \"num_unique_values\": 79,\n        \"samples\": [\n          8.1,\n          4.7,\n          2.6\n        ],\n        \"semantic_type\": \"\",\n        \"description\": \"\"\n      }\n    },\n    {\n      \"column\": \"weather\",\n      \"properties\": {\n        \"dtype\": \"category\",\n        \"num_unique_values\": 5,\n        \"samples\": [\n          \"rain\",\n          \"fog\",\n          \"sun\"\n        ],\n        \"semantic_type\": \"\",\n        \"description\": \"\"\n      }\n    }\n  ]\n}"
            }
          },
          "metadata": {},
          "execution_count": 26
        }
      ]
    },
    {
      "cell_type": "code",
      "source": [
        "# Display data shape\n",
        "print(data.shape)"
      ],
      "metadata": {
        "colab": {
          "base_uri": "https://localhost:8080/"
        },
        "id": "ivO2GAFA-ggJ",
        "outputId": "a75d6717-a248-4bbb-e734-f15782f47315"
      },
      "execution_count": 25,
      "outputs": [
        {
          "output_type": "stream",
          "name": "stdout",
          "text": [
            "(1461, 6)\n"
          ]
        }
      ]
    },
    {
      "cell_type": "code",
      "source": [
        "# Initial data analysis\n",
        "print(data.describe())"
      ],
      "metadata": {
        "colab": {
          "base_uri": "https://localhost:8080/"
        },
        "id": "-S6vs3Kv-sZA",
        "outputId": "986ffdab-1e78-4419-dd88-3c95c98aa5b5"
      },
      "execution_count": 27,
      "outputs": [
        {
          "output_type": "stream",
          "name": "stdout",
          "text": [
            "       precipitation     temp_max     temp_min         wind\n",
            "count    1461.000000  1461.000000  1461.000000  1461.000000\n",
            "mean        3.029432    16.439083     8.234771     3.241136\n",
            "std         6.680194     7.349758     5.023004     1.437825\n",
            "min         0.000000    -1.600000    -7.100000     0.400000\n",
            "25%         0.000000    10.600000     4.400000     2.200000\n",
            "50%         0.000000    15.600000     8.300000     3.000000\n",
            "75%         2.800000    22.200000    12.200000     4.000000\n",
            "max        55.900000    35.600000    18.300000     9.500000\n"
          ]
        }
      ]
    },
    {
      "cell_type": "code",
      "source": [
        "# Data Preprocessing\n",
        "# Convert date column to datetime\n",
        "data['date'] = pd.to_datetime(data['date'])"
      ],
      "metadata": {
        "id": "VBTZ_CGR-x1o"
      },
      "execution_count": 28,
      "outputs": []
    },
    {
      "cell_type": "code",
      "source": [
        "# Check for missing values\n",
        "print(data.isna().sum())"
      ],
      "metadata": {
        "colab": {
          "base_uri": "https://localhost:8080/"
        },
        "id": "7jbO_YJU-1qm",
        "outputId": "ef28763f-b0eb-4d38-c7d5-3d483db9d1f9"
      },
      "execution_count": 29,
      "outputs": [
        {
          "output_type": "stream",
          "name": "stdout",
          "text": [
            "date             0\n",
            "precipitation    0\n",
            "temp_max         0\n",
            "temp_min         0\n",
            "wind             0\n",
            "weather          0\n",
            "dtype: int64\n"
          ]
        }
      ]
    },
    {
      "cell_type": "code",
      "source": [
        "# Visualize missing values\n",
        "plt.figure(figsize=(12, 6))\n",
        "axz = plt.subplot(1, 2, 2)\n",
        "mso.bar(data.drop(['date'], axis=1), ax=axz, fontsize=12)"
      ],
      "metadata": {
        "colab": {
          "base_uri": "https://localhost:8080/",
          "height": 671
        },
        "id": "YBeYlMFT-6QM",
        "outputId": "8617011d-ae8c-4c7b-c6fe-87bb20370b1c"
      },
      "execution_count": 30,
      "outputs": [
        {
          "output_type": "execute_result",
          "data": {
            "text/plain": [
              "<Axes: >"
            ]
          },
          "metadata": {},
          "execution_count": 30
        },
        {
          "output_type": "display_data",
          "data": {
            "text/plain": [
              "<Figure size 1200x600 with 3 Axes>"
            ],
            "image/png": "[encoded data removed]"
          },
          "metadata": {}
        }
      ]
    },
    {
      "cell_type": "code",
      "source": [
        "# Inspect the dataset to confirm column names\n",
        "print(\"Columns in the dataset:\", data.columns)"
      ],
      "metadata": {
        "colab": {
          "base_uri": "https://localhost:8080/"
        },
        "id": "s4mOftWYBJVK",
        "outputId": "b79887a1-e6ee-4814-de6b-6d4132414848"
      },
      "execution_count": 36,
      "outputs": [
        {
          "output_type": "stream",
          "name": "stdout",
          "text": [
            "Columns in the dataset: Index(['precipitation', 'temp_max', 'temp_min', 'wind', 'weather'], dtype='object')\n"
          ]
        }
      ]
    },
    {
      "cell_type": "code",
      "source": [
        "# Handling outliers using IQR\n",
        "numerical_columns = data.select_dtypes(include=[np.number]).columns\n",
        "Q1 = data[numerical_columns].quantile(0.25)\n",
        "Q3 = data[numerical_columns].quantile(0.75)\n",
        "IQR = Q3 - Q1\n",
        "data = data[~((data[numerical_columns] < (Q1 - 1.5 * IQR)) | (data[numerical_columns] > (Q3 + 1.5 * IQR))).any(axis=1)]\n"
      ],
      "metadata": {
        "id": "GCvgUSCOB3mh"
      },
      "execution_count": 39,
      "outputs": []
    },
    {
      "cell_type": "code",
      "source": [
        "# Transforming skewed data\n",
        "if 'precipitation' in data.columns:\n",
        "    data['precipitation'] = np.sqrt(data['precipitation'])\n",
        "if 'wind' in data.columns:\n",
        "    data['wind'] = np.sqrt(data['wind'])"
      ],
      "metadata": {
        "id": "a4lihJzyCW4r"
      },
      "execution_count": 40,
      "outputs": []
    },
    {
      "cell_type": "code",
      "source": [
        "# Encoding categorical data\n",
        "if 'weather' in data.columns:\n",
        "    lc = LabelEncoder()\n",
        "    data['weather'] = lc.fit_transform(data['weather'])"
      ],
      "metadata": {
        "id": "ynWg2A32Ce3t"
      },
      "execution_count": 41,
      "outputs": []
    },
    {
      "cell_type": "code",
      "source": [
        "# Feature Engineering\n",
        "# Adding polynomial features\n",
        "poly = PolynomialFeatures(degree=2, interaction_only=False, include_bias=False)\n",
        "data_poly = poly.fit_transform(data.drop('weather', axis=1))\n",
        "data_poly = pd.DataFrame(data_poly, columns=poly.get_feature_names_out(data.drop('weather', axis=1).columns))"
      ],
      "metadata": {
        "id": "YXnp826wCgeD"
      },
      "execution_count": 42,
      "outputs": []
    },
    {
      "cell_type": "code",
      "source": [
        "# Scaling the features\n",
        "scaler = StandardScaler()\n",
        "data_poly = scaler.fit_transform(data_poly)"
      ],
      "metadata": {
        "id": "i6eBS4pCCoLA"
      },
      "execution_count": 43,
      "outputs": []
    },
    {
      "cell_type": "code",
      "source": [
        "# Feature and target separation\n",
        "X = data_poly\n",
        "y = data['weather'].values"
      ],
      "metadata": {
        "id": "jLv9XCJrCqDV"
      },
      "execution_count": 44,
      "outputs": []
    },
    {
      "cell_type": "code",
      "source": [
        "# Splitting the data into train and test sets\n",
        "x_train, x_test, y_train, y_test = train_test_split(X, y, test_size=0.1, random_state=2)"
      ],
      "metadata": {
        "id": "31gdOi4oCy9R"
      },
      "execution_count": 45,
      "outputs": []
    },
    {
      "cell_type": "code",
      "source": [
        "# Defining models with hyperparameter tuning\n",
        "knn = KNeighborsClassifier()\n",
        "svm = SVC()\n",
        "gbc = GradientBoostingClassifier()\n",
        "xgb = XGBClassifier()"
      ],
      "metadata": {
        "id": "qxcPcxzcC000"
      },
      "execution_count": 46,
      "outputs": []
    },
    {
      "cell_type": "code",
      "source": [
        "# Hyperparameter tuning\n",
        "param_grid_knn = {'n_neighbors': [3, 5, 7, 9]}\n",
        "param_grid_svm = {'C': [0.1, 1, 10], 'gamma': [0.001, 0.01, 0.1]}\n",
        "param_grid_gbc = {'n_estimators': [100, 200, 300], 'learning_rate': [0.01, 0.1, 0.2], 'max_depth': [3, 4, 5]}\n",
        "param_grid_xgb = {'n_estimators': [100, 200, 300], 'learning_rate': [0.01, 0.1, 0.2], 'max_depth': [3, 4, 5]}"
      ],
      "metadata": {
        "id": "54pZTiiNC7q9"
      },
      "execution_count": 47,
      "outputs": []
    },
    {
      "cell_type": "code",
      "source": [
        "# GridSearchCV\n",
        "grid_knn = GridSearchCV(knn, param_grid_knn, cv=5, scoring='accuracy')\n",
        "grid_svm = GridSearchCV(svm, param_grid_svm, cv=5, scoring='accuracy')\n",
        "grid_gbc = GridSearchCV(gbc, param_grid_gbc, cv=5, scoring='accuracy')\n",
        "grid_xgb = GridSearchCV(xgb, param_grid_xgb, cv=5, scoring='accuracy')"
      ],
      "metadata": {
        "id": "3JUF8TWLDAA4"
      },
      "execution_count": 48,
      "outputs": []
    },
    {
      "cell_type": "code",
      "source": [
        "# Training and evaluating models\n",
        "models = {\n",
        "    'KNN': grid_knn,\n",
        "    'SVM': grid_svm,\n",
        "    'GBC': grid_gbc,\n",
        "    'XGB': grid_xgb\n",
        "}\n",
        "\n",
        "for name, model in models.items():\n",
        "    model.fit(x_train, y_train)\n",
        "    y_pred = model.predict(x_test)\n",
        "    print(f'{name} accuracy: {accuracy_score(y_test, y_pred) * 100:.2f}%')\n",
        "    print(f'Best parameters for {name}: {model.best_params_}')\n",
        "    print(f'Confusion Matrix:\\n{confusion_matrix(y_test, y_pred)}')\n",
        "    print(f'Classification Report:\\n{classification_report(y_test, y_pred)}')"
      ],
      "metadata": {
        "colab": {
          "base_uri": "https://localhost:8080/"
        },
        "id": "S7K7r1zMDHNN",
        "outputId": "c1157b1a-8b5b-4112-d007-a6f3dd063f87"
      },
      "execution_count": 52,
      "outputs": [
        {
          "output_type": "stream",
          "name": "stdout",
          "text": [
            "KNN accuracy: 84.68%\n",
            "Best parameters for KNN: {'n_neighbors': 9}\n",
            "Confusion Matrix:\n",
            "[[ 0  0  0  0  1]\n",
            " [ 0  2  0  0  9]\n",
            " [ 0  1 27  0  5]\n",
            " [ 0  0  2  1  0]\n",
            " [ 0  1  0  0 75]]\n",
            "Classification Report:\n",
            "              precision    recall  f1-score   support\n",
            "\n",
            "           0       0.00      0.00      0.00         1\n",
            "           1       0.50      0.18      0.27        11\n",
            "           2       0.93      0.82      0.87        33\n",
            "           3       1.00      0.33      0.50         3\n",
            "           4       0.83      0.99      0.90        76\n",
            "\n",
            "    accuracy                           0.85       124\n",
            "   macro avg       0.65      0.46      0.51       124\n",
            "weighted avg       0.83      0.85      0.82       124\n",
            "\n",
            "SVM accuracy: 83.87%\n",
            "Best parameters for SVM: {'C': 10, 'gamma': 0.01}\n",
            "Confusion Matrix:\n",
            "[[ 0  0  0  0  1]\n",
            " [ 0  0  0  0 11]\n",
            " [ 0  0 27  0  6]\n",
            " [ 0  0  2  1  0]\n",
            " [ 0  0  0  0 76]]\n",
            "Classification Report:\n",
            "              precision    recall  f1-score   support\n",
            "\n",
            "           0       0.00      0.00      0.00         1\n",
            "           1       0.00      0.00      0.00        11\n",
            "           2       0.93      0.82      0.87        33\n",
            "           3       1.00      0.33      0.50         3\n",
            "           4       0.81      1.00      0.89        76\n",
            "\n",
            "    accuracy                           0.84       124\n",
            "   macro avg       0.55      0.43      0.45       124\n",
            "weighted avg       0.77      0.84      0.79       124\n",
            "\n",
            "GBC accuracy: 84.68%\n",
            "Best parameters for GBC: {'learning_rate': 0.01, 'max_depth': 3, 'n_estimators': 100}\n",
            "Confusion Matrix:\n",
            "[[ 0  0  0  0  1]\n",
            " [ 0  0  0  0 11]\n",
            " [ 0  0 26  0  7]\n",
            " [ 0  0  0  3  0]\n",
            " [ 0  0  0  0 76]]\n",
            "Classification Report:\n",
            "              precision    recall  f1-score   support\n",
            "\n",
            "           0       0.00      0.00      0.00         1\n",
            "           1       0.00      0.00      0.00        11\n",
            "           2       1.00      0.79      0.88        33\n",
            "           3       1.00      1.00      1.00         3\n",
            "           4       0.80      1.00      0.89        76\n",
            "\n",
            "    accuracy                           0.85       124\n",
            "   macro avg       0.56      0.56      0.55       124\n",
            "weighted avg       0.78      0.85      0.80       124\n",
            "\n",
            "XGB accuracy: 85.48%\n",
            "Best parameters for XGB: {'learning_rate': 0.01, 'max_depth': 4, 'n_estimators': 200}\n",
            "Confusion Matrix:\n",
            "[[ 0  0  0  0  1]\n",
            " [ 0  1  0  0 10]\n",
            " [ 0  0 26  1  6]\n",
            " [ 0  0  0  3  0]\n",
            " [ 0  0  0  0 76]]\n",
            "Classification Report:\n",
            "              precision    recall  f1-score   support\n",
            "\n",
            "           0       0.00      0.00      0.00         1\n",
            "           1       1.00      0.09      0.17        11\n",
            "           2       1.00      0.79      0.88        33\n",
            "           3       0.75      1.00      0.86         3\n",
            "           4       0.82      1.00      0.90        76\n",
            "\n",
            "    accuracy                           0.85       124\n",
            "   macro avg       0.71      0.58      0.56       124\n",
            "weighted avg       0.87      0.85      0.82       124\n",
            "\n",
            "KNN accuracy: 84.68%\n",
            "Best parameters for KNN: {'n_neighbors': 9}\n",
            "Confusion Matrix:\n",
            "[[ 0  0  0  0  1]\n",
            " [ 0  2  0  0  9]\n",
            " [ 0  1 27  0  5]\n",
            " [ 0  0  2  1  0]\n",
            " [ 0  1  0  0 75]]\n",
            "Classification Report:\n",
            "              precision    recall  f1-score   support\n",
            "\n",
            "           0       0.00      0.00      0.00         1\n",
            "           1       0.50      0.18      0.27        11\n",
            "           2       0.93      0.82      0.87        33\n",
            "           3       1.00      0.33      0.50         3\n",
            "           4       0.83      0.99      0.90        76\n",
            "\n",
            "    accuracy                           0.85       124\n",
            "   macro avg       0.65      0.46      0.51       124\n",
            "weighted avg       0.83      0.85      0.82       124\n",
            "\n",
            "SVM accuracy: 83.87%\n",
            "Best parameters for SVM: {'C': 10, 'gamma': 0.01}\n",
            "Confusion Matrix:\n",
            "[[ 0  0  0  0  1]\n",
            " [ 0  0  0  0 11]\n",
            " [ 0  0 27  0  6]\n",
            " [ 0  0  2  1  0]\n",
            " [ 0  0  0  0 76]]\n",
            "Classification Report:\n",
            "              precision    recall  f1-score   support\n",
            "\n",
            "           0       0.00      0.00      0.00         1\n",
            "           1       0.00      0.00      0.00        11\n",
            "           2       0.93      0.82      0.87        33\n",
            "           3       1.00      0.33      0.50         3\n",
            "           4       0.81      1.00      0.89        76\n",
            "\n",
            "    accuracy                           0.84       124\n",
            "   macro avg       0.55      0.43      0.45       124\n",
            "weighted avg       0.77      0.84      0.79       124\n",
            "\n",
            "GBC accuracy: 83.87%\n",
            "Best parameters for GBC: {'learning_rate': 0.01, 'max_depth': 3, 'n_estimators': 100}\n",
            "Confusion Matrix:\n",
            "[[ 0  0  0  0  1]\n",
            " [ 0  0  0  0 11]\n",
            " [ 0  0 26  0  7]\n",
            " [ 0  0  0  2  1]\n",
            " [ 0  0  0  0 76]]\n",
            "Classification Report:\n",
            "              precision    recall  f1-score   support\n",
            "\n",
            "           0       0.00      0.00      0.00         1\n",
            "           1       0.00      0.00      0.00        11\n",
            "           2       1.00      0.79      0.88        33\n",
            "           3       1.00      0.67      0.80         3\n",
            "           4       0.79      1.00      0.88        76\n",
            "\n",
            "    accuracy                           0.84       124\n",
            "   macro avg       0.56      0.49      0.51       124\n",
            "weighted avg       0.78      0.84      0.80       124\n",
            "\n",
            "XGB accuracy: 85.48%\n",
            "Best parameters for XGB: {'learning_rate': 0.01, 'max_depth': 4, 'n_estimators': 200}\n",
            "Confusion Matrix:\n",
            "[[ 0  0  0  0  1]\n",
            " [ 0  1  0  0 10]\n",
            " [ 0  0 26  1  6]\n",
            " [ 0  0  0  3  0]\n",
            " [ 0  0  0  0 76]]\n",
            "Classification Report:\n",
            "              precision    recall  f1-score   support\n",
            "\n",
            "           0       0.00      0.00      0.00         1\n",
            "           1       1.00      0.09      0.17        11\n",
            "           2       1.00      0.79      0.88        33\n",
            "           3       0.75      1.00      0.86         3\n",
            "           4       0.82      1.00      0.90        76\n",
            "\n",
            "    accuracy                           0.85       124\n",
            "   macro avg       0.71      0.58      0.56       124\n",
            "weighted avg       0.87      0.85      0.82       124\n",
            "\n"
          ]
        }
      ]
    },
    {
      "cell_type": "code",
      "source": [
        "# Model Optimization - Ensemble Method\n",
        "ensemble = VotingClassifier(estimators=[\n",
        "    ('knn', grid_knn.best_estimator_),\n",
        "    ('svm', grid_svm.best_estimator_),\n",
        "    ('gbc', grid_gbc.best_estimator_),\n",
        "    ('xgb', grid_xgb.best_estimator_)\n",
        "], voting='hard')\n",
        "\n",
        "ensemble.fit(x_train, y_train)\n",
        "y_pred_ensemble = ensemble.predict(x_test)\n",
        "print(f'Ensemble accuracy: {accuracy_score(y_test, y_pred_ensemble) * 100:.2f}%')\n",
        "print(f'Confusion Matrix (Ensemble):\\n{confusion_matrix(y_test, y_pred_ensemble)}')\n",
        "print(f'Classification Report (Ensemble):\\n{classification_report(y_test, y_pred_ensemble)}')"
      ],
      "metadata": {
        "colab": {
          "base_uri": "https://localhost:8080/"
        },
        "id": "Zeq0xDUBJP9U",
        "outputId": "e3b2b92d-89dd-490c-b5b0-588ffc1bc0ca"
      },
      "execution_count": 53,
      "outputs": [
        {
          "output_type": "stream",
          "name": "stdout",
          "text": [
            "Ensemble accuracy: 84.68%\n",
            "Confusion Matrix (Ensemble):\n",
            "[[ 0  0  0  0  1]\n",
            " [ 0  1  0  0 10]\n",
            " [ 0  0 27  0  6]\n",
            " [ 0  0  2  1  0]\n",
            " [ 0  0  0  0 76]]\n",
            "Classification Report (Ensemble):\n",
            "              precision    recall  f1-score   support\n",
            "\n",
            "           0       0.00      0.00      0.00         1\n",
            "           1       1.00      0.09      0.17        11\n",
            "           2       0.93      0.82      0.87        33\n",
            "           3       1.00      0.33      0.50         3\n",
            "           4       0.82      1.00      0.90        76\n",
            "\n",
            "    accuracy                           0.85       124\n",
            "   macro avg       0.75      0.45      0.49       124\n",
            "weighted avg       0.86      0.85      0.81       124\n",
            "\n"
          ]
        }
      ]
    },
    {
      "cell_type": "code",
      "source": [
        "# Saving the best model (assuming Ensemble gave the best results)\n",
        "best_model = ensemble\n",
        "with open('model.pkl', 'wb') as file:\n",
        "    pickle.dump(best_model, file)"
      ],
      "metadata": {
        "id": "WOhdWczlL2Zp"
      },
      "execution_count": 54,
      "outputs": []
    },
    {
      "cell_type": "code",
      "source": [
        "# Example prediction\n",
        "input_data =  [[0.0, 30.0, 20.0, 2.0]]\n",
        "input_data_poly = poly.transform(input_data)\n",
        "input_data_scaled = scaler.transform(input_data_poly)\n",
        "output = best_model.predict(input_data_scaled)\n",
        "weather_condition = lc.inverse_transform(output)[0]\n",
        "print(f'The predicted weather is: {weather_condition}')"
      ],
      "metadata": {
        "colab": {
          "base_uri": "https://localhost:8080/"
        },
        "id": "ggju1yenL5xc",
        "outputId": "27c87cba-b593-48e7-a72d-104d1cb02a2d"
      },
      "execution_count": 63,
      "outputs": [
        {
          "output_type": "stream",
          "name": "stdout",
          "text": [
            "The predicted weather is: sun\n"
          ]
        }
      ]
    },
    {
      "cell_type": "code",
      "source": [
        "# Example prediction\n",
        "input_data =  [[1.0, 22.0, 15.0, 5.0]]\n",
        "input_data_poly = poly.transform(input_data)\n",
        "input_data_scaled = scaler.transform(input_data_poly)\n",
        "output = best_model.predict(input_data_scaled)\n",
        "weather_condition = lc.inverse_transform(output)[0]\n",
        "print(f'The predicted weather is: {weather_condition}')"
      ],
      "metadata": {
        "colab": {
          "base_uri": "https://localhost:8080/"
        },
        "id": "yvRmgldqOa9s",
        "outputId": "e22d8a39-9d36-4c0f-93d9-a917c6c2bbaf"
      },
      "execution_count": 64,
      "outputs": [
        {
          "output_type": "stream",
          "name": "stdout",
          "text": [
            "The predicted weather is: rain\n"
          ]
        }
      ]
    },
    {
      "cell_type": "code",
      "source": [
        "# Example prediction\n",
        "input_data =  [[0.5, -2, 1, 2.0]]\n",
        "input_data_poly = poly.transform(input_data)\n",
        "input_data_scaled = scaler.transform(input_data_poly)\n",
        "output = best_model.predict(input_data_scaled)\n",
        "weather_condition = lc.inverse_transform(output)[0]\n",
        "print(f'The predicted weather is: {weather_condition}')"
      ],
      "metadata": {
        "colab": {
          "base_uri": "https://localhost:8080/"
        },
        "id": "iQA_lNktOoUY",
        "outputId": "1df86cbd-afbf-4092-eb90-90ca267fb98c"
      },
      "execution_count": 73,
      "outputs": [
        {
          "output_type": "stream",
          "name": "stdout",
          "text": [
            "The predicted weather is: drizzle\n"
          ]
        }
      ]
    },
    {
      "cell_type": "code",
      "source": [
        "# Example prediction\n",
        "input_data =  [[0.4, 3.0, -2.8, 5.3]]\n",
        "input_data_poly = poly.transform(input_data)\n",
        "input_data_scaled = scaler.transform(input_data_poly)\n",
        "output = best_model.predict(input_data_scaled)\n",
        "weather_condition = lc.inverse_transform(output)[0]\n",
        "print(f'The predicted weather is: {weather_condition}')"
      ],
      "metadata": {
        "colab": {
          "base_uri": "https://localhost:8080/"
        },
        "id": "H8Xf5EAuPjm6",
        "outputId": "32e5661a-49f0-4c6b-b972-eb93749a9743"
      },
      "execution_count": 77,
      "outputs": [
        {
          "output_type": "stream",
          "name": "stdout",
          "text": [
            "The predicted weather is: snow\n"
          ]
        }
      ]
    }
  ]
}